{
 "cells": [
  {
   "cell_type": "code",
   "execution_count": 0,
   "metadata": {
    "application/vnd.databricks.v1+cell": {
     "cellMetadata": {},
     "inputWidgets": {},
     "nuid": "85bf607d-5c5a-47ab-8e9b-69667d0a40fe",
     "showTitle": false,
     "tableResultSettingsMap": {},
     "title": ""
    }
   },
   "outputs": [],
   "source": [
    "import dlt\n",
    "from pyspark.sql.functions import col, when, to_date, udf, current_timestamp\n",
    "from pyspark.sql.types import StringType\n",
    "\n",
    "# 1. Streaming source table\n",
    "@dlt.table(name=\"opportunity_raw_streaming\")\n",
    "@dlt.expect_or_drop(\"valid_lead\", \"Lead_Name IS NOT NULL\")\n",
    "def opportunity_raw_streaming():\n",
    "    return (\n",
    "        # Sử dụng Auto Loader để tự động phát hiện file mới\n",
    "        spark.readStream.format(\"cloudFiles\")\n",
    "        .option(\"cloudFiles.format\", \"csv\")\n",
    "        .option(\"cloudFiles.schemaLocation\", \"dbfs:/tmp/j4_schema_checkpoint\")\n",
    "        .option(\"header\", \"true\")\n",
    "        .load(\"dbfs:/tmp/j4_databrick_streaming/\")\n",
    "        .withColumn(\"processing_time\", current_timestamp())\n",
    "        # Chuyển đổi boolean fields\n",
    "        .withColumn(\"Closed_Opportunity\", when(col(\"Closed_Opportunity\") == \"TRUE\", True).otherwise(False))\n",
    "        .withColumn(\"Active_Opportunity\", when(col(\"Active_Opportunity\") == \"TRUE\", True).otherwise(False))\n",
    "        .withColumn(\"Latest_Status_Entry\", when(col(\"Latest_Status_Entry\") == \"TRUE\", True).otherwise(False))\n",
    "        # Chuyển đổi date fields\n",
    "        .withColumn(\"Date\", to_date(col(\"Date\"), \"M/d/yyyy\"))\n",
    "        .withColumn(\"Target_Close\", to_date(col(\"Target_Close\"), \"M/d/yyyy\"))\n",
    "    )\n",
    "\n",
    "# 2. Masking function for PII\n",
    "def mask_text(text):\n",
    "    return str(text)[0] + \"***\" if text else text\n",
    "\n",
    "mask_udf = udf(mask_text, StringType())\n",
    "\n",
    "# 3. Enriched streaming table\n",
    "@dlt.table(name=\"opportunity_enriched_streaming\")\n",
    "def opportunity_enriched_streaming():\n",
    "    # Lưu ý: read_stream thay vì read\n",
    "    df = dlt.read_stream(\"opportunity_raw_streaming\")\n",
    "    df = df.withColumn(\"Big_Deal\", col(\"Forecasted_Monthly_Revenue\") > 100000)\n",
    "    return df\n",
    "\n",
    "# 4. Masked streaming table\n",
    "@dlt.table(name=\"opportunity_masked_streaming\")\n",
    "def opportunity_masked_streaming():\n",
    "    # Lưu ý: read_stream thay vì read\n",
    "    df = dlt.read_stream(\"opportunity_enriched_streaming\")\n",
    "    df = df.withColumn(\"Salesperson\", mask_udf(col(\"Salesperson\")))\n",
    "    df = df.withColumn(\"Lead_Name\", mask_udf(col(\"Lead_Name\")))\n",
    "    return df\n",
    "\n",
    "# 5. Final streaming table with partitioning\n",
    "@dlt.table(name=\"opportunity_final_streaming\", partition_cols=[\"Region\"])\n",
    "def opportunity_final_streaming():\n",
    "    # Lưu ý: read_stream thay vì read\n",
    "    return dlt.read_stream(\"opportunity_masked_streaming\")\n"
   ]
  }
 ],
 "metadata": {
  "application/vnd.databricks.v1+notebook": {
   "computePreferences": null,
   "dashboards": [],
   "environmentMetadata": {
    "base_environment": "",
    "environment_version": "2"
   },
   "inputWidgetPreferences": null,
   "language": "python",
   "notebookMetadata": {
    "pythonIndentUnit": 4
   },
   "notebookName": "dlt_pipeline_streaming.py",
   "widgets": {}
  },
  "language_info": {
   "name": "python"
  }
 },
 "nbformat": 4,
 "nbformat_minor": 0
}
